{
 "cells": [
  {
   "cell_type": "code",
   "execution_count": 26,
   "id": "4c1d7d1e",
   "metadata": {},
   "outputs": [
    {
     "name": "stdout",
     "output_type": "stream",
     "text": [
      "None\n",
      "['135', '67', '142', '188', '175']\n",
      "['19', '19', '21', '24', '15']\n"
     ]
    },
    {
     "data": {
      "image/png": "[encoded data removed]",
      "text/plain": [
       "<Figure size 432x288 with 1 Axes>"
      ]
     },
     "metadata": {
      "needs_background": "light"
     },
     "output_type": "display_data"
    }
   ],
   "source": [
    "import csv\n",
    "from matplotlib import pyplot as plt\n",
    "from numpy import roll\n",
    "try:\n",
    "    f=open('csbfile.csv','r')\n",
    "    file=csv.DictReader(f) #dic reader read in column wise.\n",
    "    name=[]\n",
    "    rollno=[]\n",
    "    age=[]\n",
    "    for i in file:\n",
    "        name.append(i['Name'])\n",
    "        age.append(i['Age'])\n",
    "        rollno.append(i['Roll No.'])\n",
    "    print(x)    \n",
    "    print(rollno)    \n",
    "    print(age)    \n",
    "    plt.plot(rollno,age)\n",
    "    plt.show()\n",
    "except :\n",
    "    pass"
   ]
  },
  {
   "cell_type": "code",
   "execution_count": 28,
   "id": "b4f79e85",
   "metadata": {},
   "outputs": [
    {
     "name": "stdout",
     "output_type": "stream",
     "text": [
      "{'name': 'aditya', 'age': '19'}\n"
     ]
    }
   ],
   "source": [
    "import json\n",
    "x=open('newfile.json','r')\n",
    "y=json.load(x)\n",
    "print(y)"
   ]
  },
  {
   "cell_type": "code",
   "execution_count": 39,
   "id": "9d3747db",
   "metadata": {},
   "outputs": [
    {
     "name": "stdout",
     "output_type": "stream",
     "text": [
      "{'name': 'aditya', 'age': '19'}\n",
      "<class 'str'>\n"
     ]
    }
   ],
   "source": [
    "import json\n",
    "x=open('newfile.json','r')\n",
    "y=json.load(x)\n",
    "print(y)\n",
    "z={\n",
    "    \"newname\":\"aditya\"\n",
    "}\n",
    "print(type(json.dumps(z)))"
   ]
  }
 ],
 "metadata": {
  "kernelspec": {
   "display_name": "Python 3 (ipykernel)",
   "language": "python",
   "name": "python3"
  },
  "language_info": {
   "codemirror_mode": {
    "name": "ipython",
    "version": 3
   },
   "file_extension": ".py",
   "mimetype": "text/x-python",
   "name": "python",
   "nbconvert_exporter": "python",
   "pygments_lexer": "ipython3",
   "version": "3.9.7"
  }
 },
 "nbformat": 4,
 "nbformat_minor": 5
}
